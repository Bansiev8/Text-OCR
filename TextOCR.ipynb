{
 "cells": [
  {
   "cell_type": "code",
   "execution_count": 1,
   "metadata": {},
   "outputs": [],
   "source": [
    "import pytesseract\n",
    "import cv2\n",
    "import streamlit"
   ]
  },
  {
   "cell_type": "code",
   "execution_count": 2,
   "metadata": {},
   "outputs": [],
   "source": [
    "pytesseract.pytesseract.tesseract_cmd = 'G:\\\\condapython\\\\textOCR\\\\tesseract files\\\\Tesseract-OCR\\\\tesseract.exe'"
   ]
  },
  {
   "cell_type": "code",
   "execution_count": 7,
   "metadata": {},
   "outputs": [],
   "source": [
    "#img = cv2.imread('test4.png')\n",
    "\n",
    "#img = cv2.cvtColor(img,cv2.COLOR_BGR2RGB)\n",
    "#print(pytesseract.image_to_string(img)\n",
    "\n",
    "def detect_chars(img):\n",
    "    #detection of characters\n",
    "    img = cv2.imread(img)\n",
    "    img = cv2.cvtColor(img,cv2.COLOR_BGR2RGB)\n",
    "    heightimg, widthimg,nah = img.shape\n",
    "    boxes = pytesseract.image_to_boxes(img)\n",
    "    for b in boxes.splitlines():\n",
    "        #print(b)\n",
    "        b= b.split(' ')\n",
    "        #print(b)\n",
    "        x,y,w,h = int(b[1]),int(b[2]),int(b[3]),int(b[4])\n",
    "        cv2.rectangle(img,(x,heightimg-y), (w,heightimg-h), (0,255,0),2)\n",
    "        cv2.putText(img,b[0],(x,heightimg-y+25),cv2.FONT_HERSHEY_COMPLEX, 1,(0,0,255),2)\n",
    "    cv2.imshow('result',img)\n",
    "    cv2.imwrite(\"result_chars.png\", img)\n",
    "    cv2.waitKey(0)\n",
    "\n",
    "\n",
    "\n",
    "def detect_words(img):\n",
    "    #detection of words\n",
    "    img = cv2.imread(img)\n",
    "    img = cv2.cvtColor(img,cv2.COLOR_BGR2RGB)\n",
    "    heightimg, widthimg,nah = img.shape\n",
    "    boxes = pytesseract.image_to_data(img)\n",
    "    #print(boxes)\n",
    "    for x,b in enumerate(boxes.splitlines()):\n",
    "        if x!= 0:\n",
    "            b = b.split()\n",
    "            #print(b)\n",
    "            if(len(b)==12):\n",
    "                x,y,w,h = int(b[6]),int(b[7]),int(b[8]),int(b[9])\n",
    "                cv2.rectangle(img,(x,y), (w+x,h+y), (0,255,0),2)\n",
    "                cv2.putText(img,b[11],(x,y),cv2.FONT_HERSHEY_COMPLEX, 1,(0,0,255),2)\n",
    "    cv2.imshow('result',img)\n",
    "    cv2.imwrite(\"result_words.png\", img)\n",
    "    cv2.waitKey(0)\n",
    "\n",
    "img_file =\"test2.PNG\"\n",
    "detect_chars(img_file)"
   ]
  },
  {
   "cell_type": "code",
   "execution_count": 4,
   "metadata": {},
   "outputs": [
    {
     "ename": "NameError",
     "evalue": "name 'st' is not defined",
     "output_type": "error",
     "traceback": [
      "\u001b[1;31m---------------------------------------------------------------------------\u001b[0m",
      "\u001b[1;31mNameError\u001b[0m                                 Traceback (most recent call last)",
      "\u001b[1;32m<ipython-input-4-90ddde0d8678>\u001b[0m in \u001b[0;36m<module>\u001b[1;34m\u001b[0m\n\u001b[0;32m     46\u001b[0m \u001b[1;33m\u001b[0m\u001b[0m\n\u001b[0;32m     47\u001b[0m \u001b[1;32mif\u001b[0m \u001b[0m__name__\u001b[0m \u001b[1;33m==\u001b[0m\u001b[1;34m'__main__'\u001b[0m\u001b[1;33m:\u001b[0m\u001b[1;33m\u001b[0m\u001b[1;33m\u001b[0m\u001b[0m\n\u001b[1;32m---> 48\u001b[1;33m     \u001b[0mmain\u001b[0m\u001b[1;33m(\u001b[0m\u001b[1;33m)\u001b[0m\u001b[1;33m\u001b[0m\u001b[1;33m\u001b[0m\u001b[0m\n\u001b[0m",
      "\u001b[1;32m<ipython-input-4-90ddde0d8678>\u001b[0m in \u001b[0;36mmain\u001b[1;34m()\u001b[0m\n\u001b[0;32m      2\u001b[0m \u001b[1;33m\u001b[0m\u001b[0m\n\u001b[0;32m      3\u001b[0m \u001b[1;32mdef\u001b[0m \u001b[0mmain\u001b[0m\u001b[1;33m(\u001b[0m\u001b[1;33m)\u001b[0m\u001b[1;33m:\u001b[0m\u001b[1;33m\u001b[0m\u001b[1;33m\u001b[0m\u001b[0m\n\u001b[1;32m----> 4\u001b[1;33m     \u001b[0mst\u001b[0m\u001b[1;33m.\u001b[0m\u001b[0mtitle\u001b[0m\u001b[1;33m(\u001b[0m\u001b[1;34m\"Text OCR\"\u001b[0m\u001b[1;33m)\u001b[0m\u001b[1;33m\u001b[0m\u001b[1;33m\u001b[0m\u001b[0m\n\u001b[0m\u001b[0;32m      5\u001b[0m \u001b[1;33m\u001b[0m\u001b[0m\n\u001b[0;32m      6\u001b[0m     page_bg_img = '''\n",
      "\u001b[1;31mNameError\u001b[0m: name 'st' is not defined"
     ]
    }
   ],
   "source": [
    "folder_path = '.'\n",
    "\n",
    "def main():\n",
    "    st.title(\"Text OCR\")\n",
    "    \n",
    "    page_bg_img = '''\n",
    "    <style>\n",
    "    body {\n",
    "    background-image: url(\"https://images.unsplash.com/photo-1542281286-9e0a16bb7366\");\n",
    "    background-size: cover;\n",
    "    padding=100px\n",
    "    }\n",
    "    </style>\n",
    "    '''\n",
    "\n",
    "    st.markdown(page_bg_img, unsafe_allow_html=True)\n",
    "    \n",
    "    html_temp = \"\"\"\n",
    "    <div style=\"background-image:url(\"file:///G:/condapython/steganography/background.jpg\"); background-size: cover; padding=10px\">\n",
    "    <h2 style=\"color:white; text-align:center;\">Text OCR</h2>\n",
    "    </div>\n",
    "    \"\"\"\n",
    "    st.markdown(html_temp, unsafe_allow_html = True)\n",
    "    \n",
    "    # select image\n",
    "    file_name = os.listdir(folder_path)\n",
    "    selected_file = st.selectbox(\"Select a image file\", file_name)\n",
    "    img_file = os.path.join(folder_path, selected_file)\n",
    "    \n",
    "    #get the message\n",
    "    #secret_message = st.text_input(\"Secret message\", \"Type here\")\n",
    "   \n",
    "    complete_message = \"\"\"\n",
    "    <div style = \"background-color:white\"\n",
    "    <h2 style=\"color:white;text-align:center;\">Process Complete</h2>\n",
    "    </div>\n",
    "    \"\"\"\n",
    "    \n",
    "    if st.button(\"Detect Characters\"):\n",
    "        detect_chars(img_file)\n",
    "        st.success(\"Detection complete\")\n",
    "    \n",
    "    if st.button(\"Detect Words\"):\n",
    "        detect_words(img_file)\n",
    "        st.success(\"Detection complete\")\n",
    "        \n",
    "if __name__ =='__main__':\n",
    "    main()"
   ]
  },
  {
   "cell_type": "code",
   "execution_count": null,
   "metadata": {},
   "outputs": [],
   "source": []
  }
 ],
 "metadata": {
  "kernelspec": {
   "display_name": "Python 3",
   "language": "python",
   "name": "python3"
  },
  "language_info": {
   "codemirror_mode": {
    "name": "ipython",
    "version": 3
   },
   "file_extension": ".py",
   "mimetype": "text/x-python",
   "name": "python",
   "nbconvert_exporter": "python",
   "pygments_lexer": "ipython3",
   "version": "3.7.8"
  }
 },
 "nbformat": 4,
 "nbformat_minor": 4
}
